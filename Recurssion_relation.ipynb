{
  "nbformat": 4,
  "nbformat_minor": 0,
  "metadata": {
    "colab": {
      "provenance": []
    },
    "kernelspec": {
      "name": "python3",
      "display_name": "Python 3"
    },
    "language_info": {
      "name": "python"
    }
  },
  "cells": [
    {
      "cell_type": "code",
      "execution_count": null,
      "metadata": {
        "id": "Wm5eq2jAMMgf"
      },
      "outputs": [],
      "source": [
        "#Find the value of T(2) for the recurrence relation T(n) = 3T(n-1) + 12n, given that T(0)=5."
      ]
    },
    {
      "cell_type": "code",
      "source": [
        "#python code\n",
        "\n",
        "def T(n):\n",
        "    if n == 0:\n",
        "        return 5  # because given  T(0) = 5 as given\n",
        "    else:\n",
        "        return 3 * T(n - 1) + 12 * n\n",
        "\n",
        "# Calculating T(2)\n",
        "result = T(2)\n",
        "print(\"T(2) =\", result)\n"
      ],
      "metadata": {
        "colab": {
          "base_uri": "https://localhost:8080/"
        },
        "id": "njxOmt_ZNKlO",
        "outputId": "a6e325af-95a8-404b-beb6-dd7b0adc42b2"
      },
      "execution_count": null,
      "outputs": [
        {
          "output_type": "stream",
          "name": "stdout",
          "text": [
            "T(2) = 105\n"
          ]
        }
      ]
    },
    {
      "cell_type": "markdown",
      "source": [],
      "metadata": {
        "id": "gjzRJZS3UmCr"
      }
    },
    {
      "cell_type": "markdown",
      "source": [
        "2. Given a recurrence relation, solve it using the substitution method:"
      ],
      "metadata": {
        "id": "6SAKcoxnN-2F"
      }
    },
    {
      "cell_type": "markdown",
      "source": [
        "a. T(n) = T(n-1) + c"
      ],
      "metadata": {
        "id": "apqbeZDGOBm4"
      }
    },
    {
      "cell_type": "markdown",
      "source": [
        "To solve the recurrence relation\n",
        "\n",
        "\n",
        "T(n)=T(n−1)+c using the substitution method,"
      ],
      "metadata": {
        "id": "Ich8JsyKOFkf"
      }
    },
    {
      "cell_type": "code",
      "source": [
        "#code\n",
        "def T(n, T_0, c):\n",
        "    return T_0 + n * c\n",
        "\n",
        "# Example usage\n",
        "T_0 = 5  # Initial condition, for example T(0) = 5\n",
        "c = 3    # Constant term\n",
        "n = 10   # Value of n\n",
        "\n",
        "# Calculating T(n)\n",
        "result = T(n, T_0, c)\n",
        "print(f\"T({n}) =\", result)\n"
      ],
      "metadata": {
        "colab": {
          "base_uri": "https://localhost:8080/"
        },
        "id": "BLT7SCZ0Nzhd",
        "outputId": "6f041dd5-bb70-4287-d078-8ac101b1745f"
      },
      "execution_count": null,
      "outputs": [
        {
          "output_type": "stream",
          "name": "stdout",
          "text": [
            "T(10) = 35\n"
          ]
        }
      ]
    },
    {
      "cell_type": "markdown",
      "source": [
        "b. T(n) = 2T(n/2) + n\n"
      ],
      "metadata": {
        "id": "FRRkZUYBQR8X"
      }
    },
    {
      "cell_type": "code",
      "source": [
        "#code\n",
        "\n",
        "import math\n",
        "\n",
        "def T(n):\n",
        "    if n == 1:\n",
        "        return 1  # or any base case value\n",
        "    else:\n",
        "        return 2 * T(n // 2) + n\n",
        "\n",
        "# Example usage\n",
        "n = 3\n",
        "result = T(n)\n",
        "print(f\"T({n}) =\", result)\n"
      ],
      "metadata": {
        "colab": {
          "base_uri": "https://localhost:8080/"
        },
        "id": "nRXG2JzTP4Bv",
        "outputId": "7af4db9d-b958-4956-91bc-b3cbd19fb513"
      },
      "execution_count": null,
      "outputs": [
        {
          "output_type": "stream",
          "name": "stdout",
          "text": [
            "T(3) = 5\n"
          ]
        }
      ]
    },
    {
      "cell_type": "markdown",
      "source": [
        "c. T(n) = 2T(n/2) + c"
      ],
      "metadata": {
        "id": "9Eb3rCAORBar"
      }
    },
    {
      "cell_type": "code",
      "source": [
        "def T(n, c):\n",
        "    return c * (2 * n - 1)\n",
        "\n",
        "# Example usage\n",
        "c = 3  # Example value for the constant c\n",
        "n = 8\n",
        "result = T(n, c)\n",
        "print(f\"T({n}) =\", result)\n"
      ],
      "metadata": {
        "colab": {
          "base_uri": "https://localhost:8080/"
        },
        "id": "ceUOssA8Q_oT",
        "outputId": "5ff04a9a-c7b1-4dd5-90e5-0e557ab85b0e"
      },
      "execution_count": null,
      "outputs": [
        {
          "output_type": "stream",
          "name": "stdout",
          "text": [
            "T(8) = 45\n"
          ]
        }
      ]
    },
    {
      "cell_type": "code",
      "source": [],
      "metadata": {
        "id": "8EjzFDgrTwvf"
      },
      "execution_count": null,
      "outputs": []
    },
    {
      "cell_type": "markdown",
      "source": [
        "d. T(n) = T(n/2) + c"
      ],
      "metadata": {
        "id": "zA4lATfbT18t"
      }
    },
    {
      "cell_type": "code",
      "source": [
        "def T(n, c):\n",
        "    if n == 1:\n",
        "        return 0  # Base case: T(1) = 0 or any other base value\n",
        "    else:\n",
        "        return T(n // 2, c) + c\n",
        "\n",
        "# Example usage\n",
        "c = 3  # Example constant\n",
        "n = 8\n",
        "result = T(n, c)\n",
        "print(f\"T({n}) =\", result)\n"
      ],
      "metadata": {
        "colab": {
          "base_uri": "https://localhost:8080/"
        },
        "id": "CU_atGJAT2fg",
        "outputId": "3d64e939-113b-440a-da0f-b4d69a46906c"
      },
      "execution_count": null,
      "outputs": [
        {
          "output_type": "stream",
          "name": "stdout",
          "text": [
            "T(8) = 9\n"
          ]
        }
      ]
    },
    {
      "cell_type": "markdown",
      "source": [
        "3. Given a recurrence relation, solve it using the recursive tree approach:"
      ],
      "metadata": {
        "id": "4B12HpdrUnv6"
      }
    },
    {
      "cell_type": "markdown",
      "source": [
        "a. T(n) = 2T(n-1) +1"
      ],
      "metadata": {
        "id": "9L8wgNkDUspj"
      }
    },
    {
      "cell_type": "code",
      "source": [
        "#code\n",
        "def T(n):\n",
        "    if n == 0:\n",
        "        return 1  # Base case\n",
        "    else:\n",
        "        return 2 * T(n - 1) + 1\n",
        "\n",
        "# Example usage\n",
        "n = 4\n",
        "result = T(n)\n",
        "print(f\"T({n}) =\", result)\n"
      ],
      "metadata": {
        "colab": {
          "base_uri": "https://localhost:8080/"
        },
        "id": "HZioart9UQ_c",
        "outputId": "31836f69-2dee-4ae4-fa91-b5ac29d85178"
      },
      "execution_count": null,
      "outputs": [
        {
          "output_type": "stream",
          "name": "stdout",
          "text": [
            "T(4) = 31\n"
          ]
        }
      ]
    },
    {
      "cell_type": "markdown",
      "source": [
        ".b. T(n) = 2T(n/2) + n"
      ],
      "metadata": {
        "id": "xPqpF5pjVDd4"
      }
    },
    {
      "cell_type": "code",
      "source": [
        "def T(n):\n",
        "    if n == 1:\n",
        "        return 1  # Base case: T(1) = c (assuming c = 1 for simplicity)\n",
        "    else:\n",
        "        return 2 * T(n // 2) + n\n",
        "\n",
        "# Example usage\n",
        "n = 8\n",
        "result = T(n)\n",
        "print(f\"T({n}) =\", result)\n"
      ],
      "metadata": {
        "colab": {
          "base_uri": "https://localhost:8080/"
        },
        "id": "598mJL60VCFg",
        "outputId": "c632e2d3-0a78-4dfc-c48a-9c234e8c6319"
      },
      "execution_count": null,
      "outputs": [
        {
          "output_type": "stream",
          "name": "stdout",
          "text": [
            "T(8) = 32\n"
          ]
        }
      ]
    },
    {
      "cell_type": "code",
      "source": [],
      "metadata": {
        "id": "BSBtzm7-VUMH"
      },
      "execution_count": null,
      "outputs": []
    }
  ]
}